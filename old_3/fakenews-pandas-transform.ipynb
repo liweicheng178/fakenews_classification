{
 "cells": [
  {
   "cell_type": "code",
   "execution_count": 1,
   "metadata": {},
   "outputs": [],
   "source": [
    "import pandas as pd"
   ]
  },
  {
   "cell_type": "code",
   "execution_count": 2,
   "metadata": {},
   "outputs": [],
   "source": [
    "df = pd.read_csv('two_million_rows_news_cleaned_2018_02_13.csv')"
   ]
  },
  {
   "cell_type": "code",
   "execution_count": 3,
   "metadata": {},
   "outputs": [
    {
     "data": {
      "text/plain": [
       "political                     292135\n",
       "unreliable                    171357\n",
       "bias                          140688\n",
       "fake                          123952\n",
       "conspiracy                    111459\n",
       "rumor                          67264\n",
       "unknown                        47526\n",
       "clickbait                      21741\n",
       "junksci                        17488\n",
       "satire                         14310\n",
       "reliable                        6624\n",
       "hate                            3622\n",
       "2018-02-02 01:19:41.756664         2\n",
       "Name: type, dtype: int64"
      ]
     },
     "execution_count": 3,
     "metadata": {},
     "output_type": "execute_result"
    }
   ],
   "source": [
    "df['type'].value_counts()"
   ]
  },
  {
   "cell_type": "code",
   "execution_count": 4,
   "metadata": {},
   "outputs": [],
   "source": [
    "df['content'] = df['content'].str.replace('\\W', ' ')"
   ]
  },
  {
   "cell_type": "code",
   "execution_count": null,
   "metadata": {},
   "outputs": [],
   "source": [
    "df = df.loc[df['type'].isin('political',\\\n",
    "                            'unreliable',\\\n",
    "                            'bias',\\\n",
    "                            'fake',\\\n",
    "                            'conspiracy',\\\n",
    "                            'rumor',\\\n",
    "                            'clickbait',\\\n",
    "                            'junksci',\\\n",
    "                            'satire',\\\n",
    "                            'reliable',\\\n",
    "                            'hate']"
   ]
  },
  {
   "cell_type": "code",
   "execution_count": null,
   "metadata": {},
   "outputs": [],
   "source": [
    "df.to_csv('two_million_rows_news_cleaned_2018_02_13_cleaned2.csv',sep='#',index=False)"
   ]
  }
 ],
 "metadata": {
  "kernelspec": {
   "display_name": "Python 3",
   "language": "python",
   "name": "python3"
  },
  "language_info": {
   "codemirror_mode": {
    "name": "ipython",
    "version": 3
   },
   "file_extension": ".py",
   "mimetype": "text/x-python",
   "name": "python",
   "nbconvert_exporter": "python",
   "pygments_lexer": "ipython3",
   "version": "3.7.6"
  }
 },
 "nbformat": 4,
 "nbformat_minor": 4
}
